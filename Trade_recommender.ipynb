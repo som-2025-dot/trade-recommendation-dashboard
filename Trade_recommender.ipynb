{
  "nbformat": 4,
  "nbformat_minor": 0,
  "metadata": {
    "colab": {
      "provenance": []
    },
    "kernelspec": {
      "name": "python3",
      "display_name": "Python 3"
    },
    "language_info": {
      "name": "python"
    }
  },
  "cells": [
    {
      "cell_type": "code",
      "execution_count": 1,
      "metadata": {
        "colab": {
          "base_uri": "https://localhost:8080/"
        },
        "id": "oKbNv3Ng_aKE",
        "outputId": "bbd7d7d4-c577-4fa7-b779-d160efc38e93"
      },
      "outputs": [
        {
          "output_type": "stream",
          "name": "stdout",
          "text": [
            "Requirement already satisfied: yfinance in /usr/local/lib/python3.11/dist-packages (0.2.61)\n",
            "Requirement already satisfied: pandas>=1.3.0 in /usr/local/lib/python3.11/dist-packages (from yfinance) (2.2.2)\n",
            "Requirement already satisfied: numpy>=1.16.5 in /usr/local/lib/python3.11/dist-packages (from yfinance) (2.0.2)\n",
            "Requirement already satisfied: requests>=2.31 in /usr/local/lib/python3.11/dist-packages (from yfinance) (2.32.3)\n",
            "Requirement already satisfied: multitasking>=0.0.7 in /usr/local/lib/python3.11/dist-packages (from yfinance) (0.0.11)\n",
            "Requirement already satisfied: platformdirs>=2.0.0 in /usr/local/lib/python3.11/dist-packages (from yfinance) (4.3.8)\n",
            "Requirement already satisfied: pytz>=2022.5 in /usr/local/lib/python3.11/dist-packages (from yfinance) (2025.2)\n",
            "Requirement already satisfied: frozendict>=2.3.4 in /usr/local/lib/python3.11/dist-packages (from yfinance) (2.4.6)\n",
            "Requirement already satisfied: peewee>=3.16.2 in /usr/local/lib/python3.11/dist-packages (from yfinance) (3.18.1)\n",
            "Requirement already satisfied: beautifulsoup4>=4.11.1 in /usr/local/lib/python3.11/dist-packages (from yfinance) (4.13.4)\n",
            "Requirement already satisfied: curl_cffi>=0.7 in /usr/local/lib/python3.11/dist-packages (from yfinance) (0.11.1)\n",
            "Requirement already satisfied: protobuf>=3.19.0 in /usr/local/lib/python3.11/dist-packages (from yfinance) (5.29.5)\n",
            "Requirement already satisfied: websockets>=13.0 in /usr/local/lib/python3.11/dist-packages (from yfinance) (15.0.1)\n",
            "Requirement already satisfied: soupsieve>1.2 in /usr/local/lib/python3.11/dist-packages (from beautifulsoup4>=4.11.1->yfinance) (2.7)\n",
            "Requirement already satisfied: typing-extensions>=4.0.0 in /usr/local/lib/python3.11/dist-packages (from beautifulsoup4>=4.11.1->yfinance) (4.14.0)\n",
            "Requirement already satisfied: cffi>=1.12.0 in /usr/local/lib/python3.11/dist-packages (from curl_cffi>=0.7->yfinance) (1.17.1)\n",
            "Requirement already satisfied: certifi>=2024.2.2 in /usr/local/lib/python3.11/dist-packages (from curl_cffi>=0.7->yfinance) (2025.4.26)\n",
            "Requirement already satisfied: python-dateutil>=2.8.2 in /usr/local/lib/python3.11/dist-packages (from pandas>=1.3.0->yfinance) (2.9.0.post0)\n",
            "Requirement already satisfied: tzdata>=2022.7 in /usr/local/lib/python3.11/dist-packages (from pandas>=1.3.0->yfinance) (2025.2)\n",
            "Requirement already satisfied: charset-normalizer<4,>=2 in /usr/local/lib/python3.11/dist-packages (from requests>=2.31->yfinance) (3.4.2)\n",
            "Requirement already satisfied: idna<4,>=2.5 in /usr/local/lib/python3.11/dist-packages (from requests>=2.31->yfinance) (3.10)\n",
            "Requirement already satisfied: urllib3<3,>=1.21.1 in /usr/local/lib/python3.11/dist-packages (from requests>=2.31->yfinance) (2.4.0)\n",
            "Requirement already satisfied: pycparser in /usr/local/lib/python3.11/dist-packages (from cffi>=1.12.0->curl_cffi>=0.7->yfinance) (2.22)\n",
            "Requirement already satisfied: six>=1.5 in /usr/local/lib/python3.11/dist-packages (from python-dateutil>=2.8.2->pandas>=1.3.0->yfinance) (1.17.0)\n"
          ]
        }
      ],
      "source": [
        "pip install yfinance\n"
      ]
    },
    {
      "cell_type": "code",
      "source": [
        "import requests\n",
        "\n",
        "def send_telegram_message(message):\n",
        "    bot_token = '7719067949:AAGDZt5QUJHrfOGJt4frEea0VN08-V00gKA'\n",
        "  # Replace with your bot token\n",
        "    chat_id = '1111276484'\n",
        "      # Replace with your chat ID\n",
        "\n",
        "    url = f'https://api.telegram.org/bot{bot_token}/sendMessage'\n",
        "    data = {'chat_id': chat_id, 'text': message}\n",
        "\n",
        "    response = requests.post(url, data=data)\n",
        "\n",
        "    if response.status_code == 200:\n",
        "        print('📩 Telegram alert sent successfully.')\n",
        "    else:\n",
        "        print('❌ Failed to send Telegram alert.')\n"
      ],
      "metadata": {
        "id": "8Qklc4WNpDjR"
      },
      "execution_count": 93,
      "outputs": []
    },
    {
      "cell_type": "code",
      "source": [
        "import yfinance as yf\n",
        "import pandas as pd\n",
        "\n",
        "# Define the tickers\n",
        "tickers = ['EURUSD=X', 'GC=F', 'CL=F', 'TSLA', 'AAPL']\n",
        "\n",
        "# Function to fetch live data\n",
        "def fetch_live_data(ticker):\n",
        "    data = yf.download(ticker, interval='1m', period='1d')\n",
        "    return data\n",
        "\n",
        "# Loop over all tickers and fetch data\n",
        "for ticker in tickers:\n",
        "    df = fetch_live_data(ticker)\n",
        "    print(f\"\\n{ticker} Live Data:\\n\", df.tail())\n"
      ],
      "metadata": {
        "colab": {
          "base_uri": "https://localhost:8080/"
        },
        "id": "0MdbUiO6_gl_",
        "outputId": "316c70db-ae8c-4e4f-a228-54adfce93c92"
      },
      "execution_count": 56,
      "outputs": [
        {
          "output_type": "stream",
          "name": "stderr",
          "text": [
            "\r[*********************100%***********************]  1 of 1 completed\n"
          ]
        },
        {
          "output_type": "stream",
          "name": "stdout",
          "text": [
            "\n",
            "EURUSD=X Live Data:\n",
            " Price                         Close      High       Low      Open   Volume\n",
            "Ticker                     EURUSD=X  EURUSD=X  EURUSD=X  EURUSD=X EURUSD=X\n",
            "Datetime                                                                  \n",
            "2025-06-11 19:44:00+00:00  1.148897  1.148897  1.148897  1.148897        0\n",
            "2025-06-11 19:45:00+00:00  1.148765  1.148765  1.148765  1.148765        0\n",
            "2025-06-11 19:46:00+00:00  1.148765  1.148765  1.148765  1.148765        0\n",
            "2025-06-11 19:47:00+00:00  1.148633  1.148633  1.148633  1.148633        0\n",
            "2025-06-11 19:48:00+00:00  1.148633  1.148633  1.148633  1.148633        0\n"
          ]
        },
        {
          "output_type": "stream",
          "name": "stderr",
          "text": [
            "\r[*********************100%***********************]  1 of 1 completed\n"
          ]
        },
        {
          "output_type": "stream",
          "name": "stdout",
          "text": [
            "\n",
            "GC=F Live Data:\n",
            " Price                            Close         High          Low         Open  \\\n",
            "Ticker                            GC=F         GC=F         GC=F         GC=F   \n",
            "Datetime                                                                        \n",
            "2025-06-11 19:35:00+00:00  3369.199951  3370.199951  3369.199951  3370.100098   \n",
            "2025-06-11 19:36:00+00:00  3369.300049  3369.699951  3369.000000  3369.399902   \n",
            "2025-06-11 19:37:00+00:00  3369.000000  3369.800049  3368.699951  3369.500000   \n",
            "2025-06-11 19:38:00+00:00  3368.699951  3369.100098  3368.100098  3369.100098   \n",
            "2025-06-11 19:39:00+00:00  3368.800049  3368.899902  3367.199951  3368.699951   \n",
            "\n",
            "Price                     Volume  \n",
            "Ticker                      GC=F  \n",
            "Datetime                          \n",
            "2025-06-11 19:35:00+00:00     68  \n",
            "2025-06-11 19:36:00+00:00     60  \n",
            "2025-06-11 19:37:00+00:00     90  \n",
            "2025-06-11 19:38:00+00:00     35  \n",
            "2025-06-11 19:39:00+00:00      0  \n"
          ]
        },
        {
          "output_type": "stream",
          "name": "stderr",
          "text": [
            "\r[*********************100%***********************]  1 of 1 completed\n"
          ]
        },
        {
          "output_type": "stream",
          "name": "stdout",
          "text": [
            "\n",
            "CL=F Live Data:\n",
            " Price                          Close       High        Low       Open Volume\n",
            "Ticker                          CL=F       CL=F       CL=F       CL=F   CL=F\n",
            "Datetime                                                                    \n",
            "2025-06-11 19:35:00+00:00  67.779999  67.830002  67.779999  67.820000    204\n",
            "2025-06-11 19:36:00+00:00  67.790001  67.809998  67.769997  67.790001    372\n",
            "2025-06-11 19:37:00+00:00  67.809998  67.830002  67.760002  67.790001    312\n",
            "2025-06-11 19:38:00+00:00  67.779999  67.830002  67.779999  67.820000    212\n",
            "2025-06-11 19:39:00+00:00  67.779999  67.790001  67.739998  67.779999      0\n"
          ]
        },
        {
          "output_type": "stream",
          "name": "stderr",
          "text": [
            "\r[*********************100%***********************]  1 of 1 completed\n"
          ]
        },
        {
          "output_type": "stream",
          "name": "stdout",
          "text": [
            "\n",
            "TSLA Live Data:\n",
            " Price                           Close        High         Low        Open  \\\n",
            "Ticker                           TSLA        TSLA        TSLA        TSLA   \n",
            "Datetime                                                                    \n",
            "2025-06-11 19:45:00+00:00  325.282013  325.489899  324.790009  324.809998   \n",
            "2025-06-11 19:46:00+00:00  325.380005  325.489410  325.010010  325.244995   \n",
            "2025-06-11 19:47:00+00:00  325.550110  325.700012  325.140015  325.385010   \n",
            "2025-06-11 19:48:00+00:00  325.295990  325.609985  325.070007  325.584991   \n",
            "2025-06-11 19:49:00+00:00  325.329987  325.329987  325.329987  325.329987   \n",
            "\n",
            "Price                      Volume  \n",
            "Ticker                       TSLA  \n",
            "Datetime                           \n",
            "2025-06-11 19:45:00+00:00  291333  \n",
            "2025-06-11 19:46:00+00:00  206943  \n",
            "2025-06-11 19:47:00+00:00  300196  \n",
            "2025-06-11 19:48:00+00:00  230704  \n",
            "2025-06-11 19:49:00+00:00       0  \n"
          ]
        },
        {
          "output_type": "stream",
          "name": "stderr",
          "text": [
            "\r[*********************100%***********************]  1 of 1 completed"
          ]
        },
        {
          "output_type": "stream",
          "name": "stdout",
          "text": [
            "\n",
            "AAPL Live Data:\n",
            " Price                           Close        High         Low        Open  \\\n",
            "Ticker                           AAPL        AAPL        AAPL        AAPL   \n",
            "Datetime                                                                    \n",
            "2025-06-11 19:45:00+00:00  198.960007  199.059998  198.940002  198.960007   \n",
            "2025-06-11 19:46:00+00:00  198.964996  199.033401  198.929993  198.960007   \n",
            "2025-06-11 19:47:00+00:00  198.929993  199.059998  198.889893  198.960098   \n",
            "2025-06-11 19:48:00+00:00  198.860001  198.929993  198.850006  198.899994   \n",
            "2025-06-11 19:49:00+00:00  198.860107  198.860107  198.860107  198.860107   \n",
            "\n",
            "Price                      Volume  \n",
            "Ticker                       AAPL  \n",
            "Datetime                           \n",
            "2025-06-11 19:45:00+00:00   85501  \n",
            "2025-06-11 19:46:00+00:00   72816  \n",
            "2025-06-11 19:47:00+00:00  177518  \n",
            "2025-06-11 19:48:00+00:00   73696  \n",
            "2025-06-11 19:49:00+00:00       0  \n"
          ]
        },
        {
          "output_type": "stream",
          "name": "stderr",
          "text": [
            "\n"
          ]
        }
      ]
    },
    {
      "cell_type": "code",
      "source": [
        "import sqlite3\n",
        "\n",
        "# Step 1: Connect to SQLite (it will create the DB file if it doesn't exist)\n",
        "conn = sqlite3.connect('trade_recommendation.db')  # This will create the DB file in your current directory\n",
        "cursor = conn.cursor()\n",
        "\n",
        "# Step 2: Create the table\n",
        "cursor.execute('''\n",
        "    CREATE TABLE IF NOT EXISTS live_stock_data (\n",
        "        id INTEGER PRIMARY KEY AUTOINCREMENT,\n",
        "        ticker TEXT,\n",
        "        datetime TEXT,\n",
        "        open_price REAL,\n",
        "        high_price REAL,\n",
        "        low_price REAL,\n",
        "        close_price REAL,\n",
        "        volume REAL\n",
        "    )\n",
        "''')\n",
        "\n",
        "conn.commit()\n",
        "print(\"✅ SQLite database and table created successfully.\")\n",
        "\n",
        "# Step 3: Close the connection for now\n",
        "cursor.close()\n",
        "conn.close()\n",
        "\n"
      ],
      "metadata": {
        "colab": {
          "base_uri": "https://localhost:8080/"
        },
        "id": "vaBRtytVEE7P",
        "outputId": "78c69a07-b37b-4cc7-9c4f-a64f4fc139ef"
      },
      "execution_count": 10,
      "outputs": [
        {
          "output_type": "stream",
          "name": "stdout",
          "text": [
            "✅ SQLite database and table created successfully.\n"
          ]
        }
      ]
    },
    {
      "cell_type": "code",
      "source": [
        "import yfinance as yf\n",
        "import sqlite3\n",
        "from datetime import datetime\n",
        "\n",
        "# Step 1: Connect to SQLite\n",
        "conn = sqlite3.connect('trade_recommendation.db')\n",
        "cursor = conn.cursor()\n",
        "\n",
        "# Step 2: Define the tickers\n",
        "tickers = ['EURUSD=X', 'GC=F', 'CL=F', 'TSLA', 'AAPL']\n",
        "\n",
        "# Step 3: Fetch and Insert Data\n",
        "for ticker in tickers:\n",
        "    df = yf.download(ticker, interval='1m', period='1d')\n",
        "\n",
        "    for index, row in df.iterrows():\n",
        "        sql = '''\n",
        "            INSERT INTO live_stock_data (ticker, datetime, open_price, high_price, low_price, close_price, volume)\n",
        "            VALUES (?, ?, ?, ?, ?, ?, ?)\n",
        "        '''\n",
        "        values = (\n",
        "            ticker,\n",
        "            index.strftime('%Y-%m-%d %H:%M:%S'),\n",
        "            float(row['Open']),\n",
        "            float(row['High']),\n",
        "            float(row['Low']),\n",
        "            float(row['Close']),\n",
        "            float(row['Volume'])\n",
        "        )\n",
        "        cursor.execute(sql, values)\n",
        "\n",
        "    conn.commit()\n",
        "    print(f\"✅ Inserted data for {ticker}\")\n",
        "\n",
        "# Step 4: Close connection\n",
        "cursor.close()\n",
        "conn.close()\n",
        "print(\"✅ All data inserted successfully.\")\n",
        "\n"
      ],
      "metadata": {
        "colab": {
          "base_uri": "https://localhost:8080/"
        },
        "id": "swodVA9LE_Ly",
        "outputId": "c4b9a7cd-69fc-4465-bfe2-bae706348236"
      },
      "execution_count": 12,
      "outputs": [
        {
          "output_type": "stream",
          "name": "stderr",
          "text": [
            "\r[*********************100%***********************]  1 of 1 completed\n",
            "<ipython-input-12-3327351997>:24: FutureWarning: Calling float on a single element Series is deprecated and will raise a TypeError in the future. Use float(ser.iloc[0]) instead\n",
            "  float(row['Open']),\n",
            "<ipython-input-12-3327351997>:25: FutureWarning: Calling float on a single element Series is deprecated and will raise a TypeError in the future. Use float(ser.iloc[0]) instead\n",
            "  float(row['High']),\n",
            "<ipython-input-12-3327351997>:26: FutureWarning: Calling float on a single element Series is deprecated and will raise a TypeError in the future. Use float(ser.iloc[0]) instead\n",
            "  float(row['Low']),\n",
            "<ipython-input-12-3327351997>:27: FutureWarning: Calling float on a single element Series is deprecated and will raise a TypeError in the future. Use float(ser.iloc[0]) instead\n",
            "  float(row['Close']),\n",
            "<ipython-input-12-3327351997>:28: FutureWarning: Calling float on a single element Series is deprecated and will raise a TypeError in the future. Use float(ser.iloc[0]) instead\n",
            "  float(row['Volume'])\n"
          ]
        },
        {
          "output_type": "stream",
          "name": "stdout",
          "text": [
            "✅ Inserted data for EURUSD=X\n"
          ]
        },
        {
          "output_type": "stream",
          "name": "stderr",
          "text": [
            "\r[*********************100%***********************]  1 of 1 completed\n",
            "<ipython-input-12-3327351997>:24: FutureWarning: Calling float on a single element Series is deprecated and will raise a TypeError in the future. Use float(ser.iloc[0]) instead\n",
            "  float(row['Open']),\n",
            "<ipython-input-12-3327351997>:25: FutureWarning: Calling float on a single element Series is deprecated and will raise a TypeError in the future. Use float(ser.iloc[0]) instead\n",
            "  float(row['High']),\n",
            "<ipython-input-12-3327351997>:26: FutureWarning: Calling float on a single element Series is deprecated and will raise a TypeError in the future. Use float(ser.iloc[0]) instead\n",
            "  float(row['Low']),\n",
            "<ipython-input-12-3327351997>:27: FutureWarning: Calling float on a single element Series is deprecated and will raise a TypeError in the future. Use float(ser.iloc[0]) instead\n",
            "  float(row['Close']),\n",
            "<ipython-input-12-3327351997>:28: FutureWarning: Calling float on a single element Series is deprecated and will raise a TypeError in the future. Use float(ser.iloc[0]) instead\n",
            "  float(row['Volume'])\n"
          ]
        },
        {
          "output_type": "stream",
          "name": "stdout",
          "text": [
            "✅ Inserted data for GC=F\n"
          ]
        },
        {
          "output_type": "stream",
          "name": "stderr",
          "text": [
            "\r[*********************100%***********************]  1 of 1 completed\n",
            "<ipython-input-12-3327351997>:24: FutureWarning: Calling float on a single element Series is deprecated and will raise a TypeError in the future. Use float(ser.iloc[0]) instead\n",
            "  float(row['Open']),\n",
            "<ipython-input-12-3327351997>:25: FutureWarning: Calling float on a single element Series is deprecated and will raise a TypeError in the future. Use float(ser.iloc[0]) instead\n",
            "  float(row['High']),\n",
            "<ipython-input-12-3327351997>:26: FutureWarning: Calling float on a single element Series is deprecated and will raise a TypeError in the future. Use float(ser.iloc[0]) instead\n",
            "  float(row['Low']),\n",
            "<ipython-input-12-3327351997>:27: FutureWarning: Calling float on a single element Series is deprecated and will raise a TypeError in the future. Use float(ser.iloc[0]) instead\n",
            "  float(row['Close']),\n",
            "<ipython-input-12-3327351997>:28: FutureWarning: Calling float on a single element Series is deprecated and will raise a TypeError in the future. Use float(ser.iloc[0]) instead\n",
            "  float(row['Volume'])\n"
          ]
        },
        {
          "output_type": "stream",
          "name": "stdout",
          "text": [
            "✅ Inserted data for CL=F\n"
          ]
        },
        {
          "output_type": "stream",
          "name": "stderr",
          "text": [
            "\r[*********************100%***********************]  1 of 1 completed\n",
            "<ipython-input-12-3327351997>:24: FutureWarning: Calling float on a single element Series is deprecated and will raise a TypeError in the future. Use float(ser.iloc[0]) instead\n",
            "  float(row['Open']),\n",
            "<ipython-input-12-3327351997>:25: FutureWarning: Calling float on a single element Series is deprecated and will raise a TypeError in the future. Use float(ser.iloc[0]) instead\n",
            "  float(row['High']),\n",
            "<ipython-input-12-3327351997>:26: FutureWarning: Calling float on a single element Series is deprecated and will raise a TypeError in the future. Use float(ser.iloc[0]) instead\n",
            "  float(row['Low']),\n",
            "<ipython-input-12-3327351997>:27: FutureWarning: Calling float on a single element Series is deprecated and will raise a TypeError in the future. Use float(ser.iloc[0]) instead\n",
            "  float(row['Close']),\n",
            "<ipython-input-12-3327351997>:28: FutureWarning: Calling float on a single element Series is deprecated and will raise a TypeError in the future. Use float(ser.iloc[0]) instead\n",
            "  float(row['Volume'])\n"
          ]
        },
        {
          "output_type": "stream",
          "name": "stdout",
          "text": [
            "✅ Inserted data for TSLA\n"
          ]
        },
        {
          "output_type": "stream",
          "name": "stderr",
          "text": [
            "\r[*********************100%***********************]  1 of 1 completed\n",
            "<ipython-input-12-3327351997>:24: FutureWarning: Calling float on a single element Series is deprecated and will raise a TypeError in the future. Use float(ser.iloc[0]) instead\n",
            "  float(row['Open']),\n",
            "<ipython-input-12-3327351997>:25: FutureWarning: Calling float on a single element Series is deprecated and will raise a TypeError in the future. Use float(ser.iloc[0]) instead\n",
            "  float(row['High']),\n",
            "<ipython-input-12-3327351997>:26: FutureWarning: Calling float on a single element Series is deprecated and will raise a TypeError in the future. Use float(ser.iloc[0]) instead\n",
            "  float(row['Low']),\n",
            "<ipython-input-12-3327351997>:27: FutureWarning: Calling float on a single element Series is deprecated and will raise a TypeError in the future. Use float(ser.iloc[0]) instead\n",
            "  float(row['Close']),\n",
            "<ipython-input-12-3327351997>:28: FutureWarning: Calling float on a single element Series is deprecated and will raise a TypeError in the future. Use float(ser.iloc[0]) instead\n",
            "  float(row['Volume'])\n"
          ]
        },
        {
          "output_type": "stream",
          "name": "stdout",
          "text": [
            "✅ Inserted data for AAPL\n",
            "✅ All data inserted successfully.\n"
          ]
        }
      ]
    },
    {
      "cell_type": "code",
      "source": [
        "!pip install pandas_ta\n"
      ],
      "metadata": {
        "colab": {
          "base_uri": "https://localhost:8080/"
        },
        "id": "Ai482pj4GWAm",
        "outputId": "3fabe197-4023-4bab-b4c2-1fe866397b2c"
      },
      "execution_count": 14,
      "outputs": [
        {
          "output_type": "stream",
          "name": "stdout",
          "text": [
            "Collecting pandas_ta\n",
            "  Downloading pandas_ta-0.3.14b.tar.gz (115 kB)\n",
            "\u001b[?25l     \u001b[90m━━━━━━━━━━━━━━━━━━━━━━━━━━━━━━━━━━━━━━━━\u001b[0m \u001b[32m0.0/115.1 kB\u001b[0m \u001b[31m?\u001b[0m eta \u001b[36m-:--:--\u001b[0m\r\u001b[2K     \u001b[90m━━━━━━━━━━━━━━━━━━━━━━━━━━━━━━━━━━━━━━━\u001b[0m \u001b[32m115.1/115.1 kB\u001b[0m \u001b[31m3.2 MB/s\u001b[0m eta \u001b[36m0:00:00\u001b[0m\n",
            "\u001b[?25h  Preparing metadata (setup.py) ... \u001b[?25l\u001b[?25hdone\n",
            "Requirement already satisfied: pandas in /usr/local/lib/python3.11/dist-packages (from pandas_ta) (2.2.2)\n",
            "Requirement already satisfied: numpy>=1.23.2 in /usr/local/lib/python3.11/dist-packages (from pandas->pandas_ta) (2.0.2)\n",
            "Requirement already satisfied: python-dateutil>=2.8.2 in /usr/local/lib/python3.11/dist-packages (from pandas->pandas_ta) (2.9.0.post0)\n",
            "Requirement already satisfied: pytz>=2020.1 in /usr/local/lib/python3.11/dist-packages (from pandas->pandas_ta) (2025.2)\n",
            "Requirement already satisfied: tzdata>=2022.7 in /usr/local/lib/python3.11/dist-packages (from pandas->pandas_ta) (2025.2)\n",
            "Requirement already satisfied: six>=1.5 in /usr/local/lib/python3.11/dist-packages (from python-dateutil>=2.8.2->pandas->pandas_ta) (1.17.0)\n",
            "Building wheels for collected packages: pandas_ta\n",
            "  Building wheel for pandas_ta (setup.py) ... \u001b[?25l\u001b[?25hdone\n",
            "  Created wheel for pandas_ta: filename=pandas_ta-0.3.14b0-py3-none-any.whl size=218910 sha256=4eebf1ef581908e6a18c25a2afcded4b96ee11288a6dd49518c65eda158b8e89\n",
            "  Stored in directory: /root/.cache/pip/wheels/7f/33/8b/50b245c5c65433cd8f5cb24ac15d97e5a3db2d41a8b6ae957d\n",
            "Successfully built pandas_ta\n",
            "Installing collected packages: pandas_ta\n",
            "Successfully installed pandas_ta-0.3.14b0\n"
          ]
        }
      ]
    },
    {
      "cell_type": "code",
      "source": [
        "!pip install ta\n"
      ],
      "metadata": {
        "colab": {
          "base_uri": "https://localhost:8080/"
        },
        "id": "w4flFcY5Glav",
        "outputId": "c9198aba-57cd-49ef-b509-fc332721f5e2"
      },
      "execution_count": 58,
      "outputs": [
        {
          "output_type": "stream",
          "name": "stdout",
          "text": [
            "Requirement already satisfied: ta in /usr/local/lib/python3.11/dist-packages (0.11.0)\n",
            "Requirement already satisfied: numpy in /usr/local/lib/python3.11/dist-packages (from ta) (2.0.2)\n",
            "Requirement already satisfied: pandas in /usr/local/lib/python3.11/dist-packages (from ta) (2.2.2)\n",
            "Requirement already satisfied: python-dateutil>=2.8.2 in /usr/local/lib/python3.11/dist-packages (from pandas->ta) (2.9.0.post0)\n",
            "Requirement already satisfied: pytz>=2020.1 in /usr/local/lib/python3.11/dist-packages (from pandas->ta) (2025.2)\n",
            "Requirement already satisfied: tzdata>=2022.7 in /usr/local/lib/python3.11/dist-packages (from pandas->ta) (2025.2)\n",
            "Requirement already satisfied: six>=1.5 in /usr/local/lib/python3.11/dist-packages (from python-dateutil>=2.8.2->pandas->ta) (1.17.0)\n"
          ]
        }
      ]
    },
    {
      "cell_type": "code",
      "source": [
        "import pandas as pd\n",
        "import sqlite3\n",
        "from ta.momentum import RSIIndicator\n",
        "from ta.trend import SMAIndicator\n",
        "\n",
        "# Step 1: Connect to SQLite\n",
        "conn = sqlite3.connect('trade_recommendation.db')\n",
        "\n",
        "# Step 2: Load the data into a DataFrame\n",
        "query = \"SELECT * FROM live_stock_data\"\n",
        "df = pd.read_sql(query, conn)\n",
        "\n",
        "# Step 3: Close the database connection\n",
        "conn.close()\n",
        "\n",
        "# Step 4: Process data for each stock separately\n",
        "tickers = df['ticker'].unique()\n",
        "indicator_data = {}\n",
        "\n",
        "for ticker in tickers:\n",
        "    stock_df = df[df['ticker'] == ticker].copy()\n",
        "    stock_df['datetime'] = pd.to_datetime(stock_df['datetime'])\n",
        "    stock_df = stock_df.sort_values('datetime')\n",
        "\n",
        "    # Calculate RSI\n",
        "    rsi = RSIIndicator(close=stock_df['close_price'], window=14)\n",
        "    stock_df['RSI'] = rsi.rsi()\n",
        "\n",
        "    # Calculate 20-period Moving Average\n",
        "    ma20 = SMAIndicator(close=stock_df['close_price'], window=20)\n",
        "    stock_df['MA20'] = ma20.sma_indicator()\n",
        "\n",
        "    # Calculate 50-period Moving Average\n",
        "    ma50 = SMAIndicator(close=stock_df['close_price'], window=50)\n",
        "    stock_df['MA50'] = ma50.sma_indicator()\n",
        "\n",
        "    # Save to dictionary for later use\n",
        "    indicator_data[ticker] = stock_df\n",
        "\n",
        "    print(f\"✅ Calculated indicators for {ticker}\")\n",
        "\n",
        "print(\"✅ All technical indicators calculated successfully.\")\n"
      ],
      "metadata": {
        "colab": {
          "base_uri": "https://localhost:8080/"
        },
        "id": "lWXmZj9nGy_Q",
        "outputId": "23569702-b530-47ef-97e6-4c1650f9ccdd"
      },
      "execution_count": 33,
      "outputs": [
        {
          "output_type": "stream",
          "name": "stdout",
          "text": [
            "✅ Calculated indicators for EURUSD=X\n",
            "✅ Calculated indicators for GC=F\n",
            "✅ Calculated indicators for CL=F\n",
            "✅ Calculated indicators for TSLA\n",
            "✅ Calculated indicators for AAPL\n",
            "✅ All technical indicators calculated successfully.\n"
          ]
        }
      ]
    },
    {
      "cell_type": "code",
      "source": [
        "import numpy as np\n",
        "\n",
        "# We will use the first stock for now, you can loop over others later\n",
        "selected_stock = 'TSLA'\n",
        "df_model = indicator_data[selected_stock].copy()\n",
        "\n",
        "# Step 1: Drop rows with NaN values caused by indicator calculations\n",
        "df_model.dropna(inplace=True)\n",
        "\n",
        "# Step 2: Create the target variable\n",
        "# If next close price > current close price → label as 1 (buy), else 0 (don't buy)\n",
        "df_model['target'] = np.where(df_model['close_price'].shift(-1) > df_model['close_price'], 1, 0)\n",
        "\n",
        "# Step 3: Select features and target\n",
        "features = ['RSI', 'MA20', 'MA50']\n",
        "X = df_model[features]\n",
        "y = df_model['target']\n",
        "\n",
        "print(f\"✅ Data prepared for {selected_stock}\")\n",
        "print(f\"Features: {X.shape}\")\n",
        "print(f\"Target: {y.shape}\")\n"
      ],
      "metadata": {
        "colab": {
          "base_uri": "https://localhost:8080/"
        },
        "id": "Z0tJPlgXG5Mo",
        "outputId": "1f439932-fe16-4579-d1f1-1bba20c60e57"
      },
      "execution_count": 18,
      "outputs": [
        {
          "output_type": "stream",
          "name": "stdout",
          "text": [
            "✅ Data prepared for TSLA\n",
            "Features: (194, 3)\n",
            "Target: (194,)\n"
          ]
        }
      ]
    },
    {
      "cell_type": "code",
      "source": [
        "import xgboost as xgb\n",
        "from sklearn.model_selection import train_test_split\n",
        "from sklearn.metrics import accuracy_score\n",
        "\n",
        "# Step 1: Split the data\n",
        "X_train, X_test, y_train, y_test = train_test_split(X, y, test_size=0.2, shuffle=False)\n",
        "\n",
        "# Step 2: Initialize the XGBoost Classifier\n",
        "model = xgb.XGBClassifier(use_label_encoder=False, eval_metric='logloss')\n",
        "\n",
        "# Step 3: Train the model\n",
        "model.fit(X_train, y_train)\n",
        "\n",
        "# Step 4: Make predictions\n",
        "y_pred = model.predict(X_test)\n",
        "\n",
        "# Step 5: Evaluate accuracy\n",
        "accuracy = accuracy_score(y_test, y_pred)\n",
        "print(f\"✅ Model trained successfully. Accuracy: {accuracy:.2f}\")\n"
      ],
      "metadata": {
        "colab": {
          "base_uri": "https://localhost:8080/"
        },
        "id": "JEqID0tQHCJf",
        "outputId": "ffe82374-92d7-4fad-86fe-2120aec0f76c"
      },
      "execution_count": 19,
      "outputs": [
        {
          "output_type": "stream",
          "name": "stdout",
          "text": [
            "✅ Model trained successfully. Accuracy: 0.54\n"
          ]
        },
        {
          "output_type": "stream",
          "name": "stderr",
          "text": [
            "/usr/local/lib/python3.11/dist-packages/xgboost/core.py:158: UserWarning: [17:49:35] WARNING: /workspace/src/learner.cc:740: \n",
            "Parameters: { \"use_label_encoder\" } are not used.\n",
            "\n",
            "  warnings.warn(smsg, UserWarning)\n"
          ]
        }
      ]
    },
    {
      "cell_type": "code",
      "source": [
        "import requests\n",
        "\n",
        "# Your Telegram bot token and chat ID\n",
        "bot_token = '7719067949:AAGDZt5QUJHrfOGJt4frEea0VN08-V00gKA'\n",
        "chat_id = '1111276484'\n",
        "\n",
        "\n",
        "def send_telegram_message(message):\n",
        "    url = f'https://api.telegram.org/bot{bot_token}/sendMessage'\n",
        "    payload = {'chat_id': chat_id, 'text': message}\n",
        "    response = requests.post(url, data=payload)\n",
        "    if response.status_code == 200:\n",
        "        print(\"✅ Telegram message sent successfully.\")\n",
        "    else:\n",
        "        print(f\"❌ Failed to send message. Error: {response.text}\")\n",
        "\n",
        "# Send test message\n",
        "send_telegram_message('🚨 Test alert from your Trade Recommendation System!')\n"
      ],
      "metadata": {
        "colab": {
          "base_uri": "https://localhost:8080/"
        },
        "id": "NXfSsYXNL6vW",
        "outputId": "7a4c81a3-9bc1-4f86-99ca-966be43909e5"
      },
      "execution_count": 23,
      "outputs": [
        {
          "output_type": "stream",
          "name": "stdout",
          "text": [
            "✅ Telegram message sent successfully.\n"
          ]
        }
      ]
    },
    {
      "cell_type": "code",
      "source": [
        "import time\n",
        "\n",
        "# Example function to simulate checking a trade signal\n",
        "def check_trade_signal():\n",
        "    # In actual project: Add your model prediction or indicator logic here\n",
        "    # Simulate a random buy signal for now\n",
        "    return 'Buy Signal for TSLA'\n",
        "\n",
        "# Real-time monitoring loop\n",
        "while True:\n",
        "    signal = check_trade_signal()\n",
        "    send_telegram_message(f'🚨 Trade Alert: {signal}')\n",
        "\n",
        "    print('✅ Signal sent. Waiting for next check...')\n",
        "\n",
        "    # Check every 5 minutes (300 seconds)\n",
        "    time.sleep(300)\n",
        "try:\n",
        "    while True:\n",
        "        signal = check_trade_signal()\n",
        "        send_telegram_message(f'🚨 Trade Alert: {signal}')\n",
        "\n",
        "        print('✅ Signal sent. Waiting for next check...')\n",
        "        time.sleep(300)\n",
        "except KeyboardInterrupt:\n",
        "    print('\\n⏹️ Monitoring stopped by user.')\n",
        "\n"
      ],
      "metadata": {
        "colab": {
          "base_uri": "https://localhost:8080/",
          "height": 245
        },
        "id": "hT4TdsjMM_kZ",
        "outputId": "08977fd6-0bf1-4eff-af7e-796dd77c069d"
      },
      "execution_count": 27,
      "outputs": [
        {
          "output_type": "stream",
          "name": "stdout",
          "text": [
            "✅ Telegram message sent successfully.\n",
            "✅ Signal sent. Waiting for next check...\n"
          ]
        },
        {
          "output_type": "error",
          "ename": "KeyboardInterrupt",
          "evalue": "",
          "traceback": [
            "\u001b[0;31m---------------------------------------------------------------------------\u001b[0m",
            "\u001b[0;31mKeyboardInterrupt\u001b[0m                         Traceback (most recent call last)",
            "\u001b[0;32m<ipython-input-27-1854805752>\u001b[0m in \u001b[0;36m<cell line: 0>\u001b[0;34m()\u001b[0m\n\u001b[1;32m     15\u001b[0m \u001b[0;34m\u001b[0m\u001b[0m\n\u001b[1;32m     16\u001b[0m     \u001b[0;31m# Check every 5 minutes (300 seconds)\u001b[0m\u001b[0;34m\u001b[0m\u001b[0;34m\u001b[0m\u001b[0m\n\u001b[0;32m---> 17\u001b[0;31m     \u001b[0mtime\u001b[0m\u001b[0;34m.\u001b[0m\u001b[0msleep\u001b[0m\u001b[0;34m(\u001b[0m\u001b[0;36m300\u001b[0m\u001b[0;34m)\u001b[0m\u001b[0;34m\u001b[0m\u001b[0;34m\u001b[0m\u001b[0m\n\u001b[0m\u001b[1;32m     18\u001b[0m \u001b[0;32mtry\u001b[0m\u001b[0;34m:\u001b[0m\u001b[0;34m\u001b[0m\u001b[0;34m\u001b[0m\u001b[0m\n\u001b[1;32m     19\u001b[0m     \u001b[0;32mwhile\u001b[0m \u001b[0;32mTrue\u001b[0m\u001b[0;34m:\u001b[0m\u001b[0;34m\u001b[0m\u001b[0;34m\u001b[0m\u001b[0m\n",
            "\u001b[0;31mKeyboardInterrupt\u001b[0m: "
          ]
        }
      ]
    },
    {
      "cell_type": "code",
      "source": [
        "import pandas as pd\n",
        "import sqlite3\n",
        "\n",
        "def check_trade_signals():\n",
        "    import sqlite3\n",
        "\n",
        "    # Connect to SQLite database\n",
        "    conn = sqlite3.connect('trade_recommendation.db')\n",
        "    cursor = conn.cursor()\n",
        "\n",
        "    # Step 1: Get the most recent datetime per ticker efficiently\n",
        "    query = \"\"\"\n",
        "    SELECT i.ticker, i.rsi\n",
        "    FROM indicators i\n",
        "    INNER JOIN (\n",
        "        SELECT ticker, MAX(datetime) as max_datetime\n",
        "        FROM indicators\n",
        "        GROUP BY ticker\n",
        "    ) latest\n",
        "    ON i.ticker = latest.ticker AND i.datetime = latest.max_datetime\n",
        "    \"\"\"\n",
        "\n",
        "    cursor.execute(query)\n",
        "    results = cursor.fetchall()\n",
        "    conn.close()\n",
        "\n",
        "    signals = []\n",
        "\n",
        "    for ticker, rsi_value in results:\n",
        "        if rsi_value < 30:\n",
        "            signals.append(f'🔔 Buy Signal for {ticker} (RSI = {rsi_value:.2f})')\n",
        "        elif rsi_value > 70:\n",
        "            signals.append(f'🚨 Sell Signal for {ticker} (RSI = {rsi_value:.2f})')\n",
        "\n",
        "    return signals\n"
      ],
      "metadata": {
        "id": "0mplwNY5N-d8"
      },
      "execution_count": 39,
      "outputs": []
    },
    {
      "cell_type": "code",
      "source": [
        "import time\n",
        "\n",
        "try:\n",
        "    while True:\n",
        "        signals = check_trade_signals()\n",
        "\n",
        "        if signals:  # If there are signals\n",
        "            for signal in signals:\n",
        "                send_telegram_message(signal)\n",
        "                print(f'✅ Alert sent: {signal}')\n",
        "        else:\n",
        "            print('ℹ️ No signal detected. Waiting for next check...')\n",
        "\n",
        "        # Wait for 5 minutes before next check\n",
        "        time.sleep(300)\n",
        "\n",
        "except KeyboardInterrupt:\n",
        "    print('\\n⏹️ Monitoring stopped by user.')\n"
      ],
      "metadata": {
        "colab": {
          "base_uri": "https://localhost:8080/"
        },
        "id": "k2jm16QaUEOG",
        "outputId": "d37ddce0-f6de-4458-affe-e9f15bfdcc49"
      },
      "execution_count": 36,
      "outputs": [
        {
          "output_type": "stream",
          "name": "stdout",
          "text": [
            "ℹ️ No signal detected. Waiting for next check...\n",
            "ℹ️ No signal detected. Waiting for next check...\n",
            "ℹ️ No signal detected. Waiting for next check...\n",
            "\n",
            "⏹️ Monitoring stopped by user.\n"
          ]
        }
      ]
    },
    {
      "cell_type": "code",
      "source": [
        "import sqlite3\n",
        "\n",
        "# Connect to your database\n",
        "conn = sqlite3.connect('trade_recommendation.db')\n",
        "cursor = conn.cursor()\n",
        "\n",
        "# Create the indicators table\n",
        "cursor.execute('''\n",
        "    CREATE TABLE IF NOT EXISTS indicators (\n",
        "        ticker TEXT,\n",
        "        datetime TEXT,\n",
        "        rsi REAL,\n",
        "        ma20 REAL,\n",
        "        ma50 REAL\n",
        "    )\n",
        "''')\n",
        "\n",
        "conn.commit()\n",
        "conn.close()\n",
        "\n",
        "print('✅ Table \"indicators\" created successfully.')\n"
      ],
      "metadata": {
        "colab": {
          "base_uri": "https://localhost:8080/"
        },
        "id": "DddbT7XXZdy7",
        "outputId": "7bd15d72-8d97-47c0-eb52-db166957b409"
      },
      "execution_count": 43,
      "outputs": [
        {
          "output_type": "stream",
          "name": "stdout",
          "text": [
            "✅ Table \"indicators\" created successfully.\n"
          ]
        }
      ]
    },
    {
      "cell_type": "code",
      "source": [
        "!pip install pandas_ta==0.3.14b\n"
      ],
      "metadata": {
        "colab": {
          "base_uri": "https://localhost:8080/"
        },
        "id": "rdw0c26hbvV-",
        "outputId": "373534db-6d57-440a-95a6-7f6475f12986"
      },
      "execution_count": 45,
      "outputs": [
        {
          "output_type": "stream",
          "name": "stdout",
          "text": [
            "Requirement already satisfied: pandas_ta==0.3.14b in /usr/local/lib/python3.11/dist-packages (0.3.14b0)\n",
            "Requirement already satisfied: pandas in /usr/local/lib/python3.11/dist-packages (from pandas_ta==0.3.14b) (2.2.2)\n",
            "Requirement already satisfied: numpy>=1.23.2 in /usr/local/lib/python3.11/dist-packages (from pandas->pandas_ta==0.3.14b) (2.0.2)\n",
            "Requirement already satisfied: python-dateutil>=2.8.2 in /usr/local/lib/python3.11/dist-packages (from pandas->pandas_ta==0.3.14b) (2.9.0.post0)\n",
            "Requirement already satisfied: pytz>=2020.1 in /usr/local/lib/python3.11/dist-packages (from pandas->pandas_ta==0.3.14b) (2025.2)\n",
            "Requirement already satisfied: tzdata>=2022.7 in /usr/local/lib/python3.11/dist-packages (from pandas->pandas_ta==0.3.14b) (2025.2)\n",
            "Requirement already satisfied: six>=1.5 in /usr/local/lib/python3.11/dist-packages (from python-dateutil>=2.8.2->pandas->pandas_ta==0.3.14b) (1.17.0)\n"
          ]
        }
      ]
    },
    {
      "cell_type": "code",
      "source": [
        "latest_data['rsi'] = ta.momentum.RSIIndicator(close=latest_data['Close'].squeeze(), window=14).rsi()\n"
      ],
      "metadata": {
        "id": "b5J9pQeRguHZ"
      },
      "execution_count": 50,
      "outputs": []
    },
    {
      "cell_type": "code",
      "source": [
        "# Calculate indicators\n",
        "latest_data['rsi'] = ta.momentum.RSIIndicator(close=latest_data['Close'].squeeze(), window=14).rsi()\n",
        "latest_data['ma20'] = latest_data['Close'].rolling(window=20).mean()\n",
        "latest_data['ma50'] = latest_data['Close'].rolling(window=50).mean()\n",
        "\n",
        "# Prepare the most recent row to insert\n",
        "latest_row = latest_data.iloc[-1]\n",
        "\n",
        "# Extract single float values from each column\n",
        "rsi_value = latest_row['rsi'].item()\n",
        "ma20_value = latest_row['ma20'].item()\n",
        "ma50_value = latest_row['ma50'].item()\n",
        "\n",
        "\n",
        "# Insert into the database\n",
        "conn = sqlite3.connect('trade_recommendation.db')\n",
        "cursor = conn.cursor()\n",
        "\n",
        "cursor.execute('''\n",
        "    INSERT INTO indicators (ticker, datetime, rsi, ma20, ma50)\n",
        "    VALUES (?, ?, ?, ?, ?)\n",
        "''', (ticker, latest_row.name.strftime('%Y-%m-%d %H:%M:%S'), rsi_value, ma20_value, ma50_value))\n",
        "\n",
        "conn.commit()\n",
        "conn.close()\n",
        "\n",
        "print(f\"✅ Updated indicators for {ticker} at {latest_row.name}\")\n"
      ],
      "metadata": {
        "colab": {
          "base_uri": "https://localhost:8080/"
        },
        "id": "9tgqU__WhUNS",
        "outputId": "5ced11d8-955f-421e-94fa-baaefac2cd67"
      },
      "execution_count": 54,
      "outputs": [
        {
          "output_type": "stream",
          "name": "stdout",
          "text": [
            "✅ Updated indicators for TSLA at 2025-06-11 19:40:00+00:00\n"
          ]
        }
      ]
    },
    {
      "cell_type": "code",
      "source": [
        "from ta.momentum import RSIIndicator\n",
        "from ta.trend import SMAIndicator\n",
        "import yfinance as yf\n",
        "import sqlite3\n",
        "\n",
        "def update_indicators(ticker):\n",
        "    data = yf.download(ticker, period='60d', interval='1h')\n",
        "\n",
        "    # Extract the closing prices correctly\n",
        "    close_prices = data['Close']\n",
        "\n",
        "    # Calculate indicators using 'ta' library\n",
        "    rsi_series = RSIIndicator(close=close_prices, window=14).rsi()\n",
        "    ma20_series = SMAIndicator(close=close_prices, window=20).sma_indicator()\n",
        "    ma50_series = SMAIndicator(close=close_prices, window=50).sma_indicator()\n",
        "\n",
        "    # Add indicators to the DataFrame\n",
        "    data['rsi'] = rsi_series\n",
        "    data['ma20'] = ma20_series\n",
        "    data['ma50'] = ma50_series\n",
        "\n",
        "    # Extract the latest row's values\n",
        "    latest_row = data.iloc[-1]\n",
        "    rsi_value = float(latest_row['rsi'])\n",
        "    ma20_value = float(latest_row['ma20'])\n",
        "    ma50_value = float(latest_row['ma50'])\n",
        "    latest_datetime = latest_row.name\n",
        "\n",
        "    # Connect to SQLite database\n",
        "    conn = sqlite3.connect('trade_recommendation.db')\n",
        "    cursor = conn.cursor()\n",
        "\n",
        "    # Insert the latest indicators into the database\n",
        "    cursor.execute('''\n",
        "        INSERT INTO indicators (ticker, datetime, rsi, ma20, ma50)\n",
        "        VALUES (?, ?, ?, ?, ?)\n",
        "    ''', (ticker, latest_datetime, rsi_value, ma20_value, ma50_value))\n",
        "\n",
        "    conn.commit()\n",
        "    conn.close()\n",
        "\n",
        "    print(f'✅ Updated indicators for {ticker} at {latest_datetime}')\n"
      ],
      "metadata": {
        "id": "GWOtP2jGkL9G"
      },
      "execution_count": 64,
      "outputs": []
    },
    {
      "cell_type": "code",
      "source": [
        "from ta.momentum import RSIIndicator\n",
        "from ta.trend import SMAIndicator\n",
        "\n",
        "def update_indicators(ticker):\n",
        "    data = yf.download(ticker, period='60d', interval='1h')\n",
        "\n",
        "    # Calculate indicators using 'ta' library\n",
        "    data['rsi'] = RSIIndicator(close=data['Close'], window=14).rsi()\n",
        "    data['ma20'] = SMAIndicator(close=data['Close'], window=20).sma_indicator()\n",
        "    data['ma50'] = SMAIndicator(close=data['Close'], window=50).sma_indicator()\n",
        "\n",
        "    latest_row = data.iloc[-1]\n",
        "    rsi_value = float(latest_row['rsi'].item())    # Force it to be a pure float\n",
        "    ma20_value = float(latest_row['ma20'].item())  # Force it to be a pure float\n",
        "    ma50_value = float(latest_row['ma50'].item())  # Force it to be a pure float\n",
        "    latest_datetime = latest_row.name\n",
        "\n",
        "    conn = sqlite3.connect('trade_recommendation.db')\n",
        "    cursor = conn.cursor()\n",
        "\n",
        "    cursor.execute('''\n",
        "        INSERT INTO indicators (ticker, datetime, rsi, ma20, ma50)\n",
        "        VALUES (?, ?, ?, ?, ?)\n",
        "    ''', (ticker, latest_datetime, rsi_value, ma20_value, ma50_value))\n",
        "\n",
        "    conn.commit()\n",
        "    conn.close()\n",
        "\n",
        "    print(f'✅ Updated indicators for {ticker} at {latest_datetime}')\n"
      ],
      "metadata": {
        "id": "mHRMA0LqkitE"
      },
      "execution_count": 66,
      "outputs": []
    },
    {
      "cell_type": "code",
      "source": [
        "update_indicators('TSLA')\n"
      ],
      "metadata": {
        "colab": {
          "base_uri": "https://localhost:8080/",
          "height": 304
        },
        "id": "2gKjr6DOkuvN",
        "outputId": "995dd295-3ac2-4ce5-e181-a2b12b6a4c34"
      },
      "execution_count": 68,
      "outputs": [
        {
          "output_type": "stream",
          "name": "stderr",
          "text": [
            "\r[*********************100%***********************]  1 of 1 completed\n"
          ]
        },
        {
          "output_type": "error",
          "ename": "ValueError",
          "evalue": "Data must be 1-dimensional, got ndarray of shape (420, 1) instead",
          "traceback": [
            "\u001b[0;31m---------------------------------------------------------------------------\u001b[0m",
            "\u001b[0;31mValueError\u001b[0m                                Traceback (most recent call last)",
            "\u001b[0;32m<ipython-input-68-101601777>\u001b[0m in \u001b[0;36m<cell line: 0>\u001b[0;34m()\u001b[0m\n\u001b[0;32m----> 1\u001b[0;31m \u001b[0mupdate_indicators\u001b[0m\u001b[0;34m(\u001b[0m\u001b[0;34m'TSLA'\u001b[0m\u001b[0;34m)\u001b[0m\u001b[0;34m\u001b[0m\u001b[0;34m\u001b[0m\u001b[0m\n\u001b[0m",
            "\u001b[0;32m<ipython-input-66-1789987973>\u001b[0m in \u001b[0;36mupdate_indicators\u001b[0;34m(ticker)\u001b[0m\n\u001b[1;32m      6\u001b[0m \u001b[0;34m\u001b[0m\u001b[0m\n\u001b[1;32m      7\u001b[0m     \u001b[0;31m# Calculate indicators using 'ta' library\u001b[0m\u001b[0;34m\u001b[0m\u001b[0;34m\u001b[0m\u001b[0m\n\u001b[0;32m----> 8\u001b[0;31m     \u001b[0mdata\u001b[0m\u001b[0;34m[\u001b[0m\u001b[0;34m'rsi'\u001b[0m\u001b[0;34m]\u001b[0m \u001b[0;34m=\u001b[0m \u001b[0mRSIIndicator\u001b[0m\u001b[0;34m(\u001b[0m\u001b[0mclose\u001b[0m\u001b[0;34m=\u001b[0m\u001b[0mdata\u001b[0m\u001b[0;34m[\u001b[0m\u001b[0;34m'Close'\u001b[0m\u001b[0;34m]\u001b[0m\u001b[0;34m,\u001b[0m \u001b[0mwindow\u001b[0m\u001b[0;34m=\u001b[0m\u001b[0;36m14\u001b[0m\u001b[0;34m)\u001b[0m\u001b[0;34m.\u001b[0m\u001b[0mrsi\u001b[0m\u001b[0;34m(\u001b[0m\u001b[0;34m)\u001b[0m\u001b[0;34m\u001b[0m\u001b[0;34m\u001b[0m\u001b[0m\n\u001b[0m\u001b[1;32m      9\u001b[0m     \u001b[0mdata\u001b[0m\u001b[0;34m[\u001b[0m\u001b[0;34m'ma20'\u001b[0m\u001b[0;34m]\u001b[0m \u001b[0;34m=\u001b[0m \u001b[0mSMAIndicator\u001b[0m\u001b[0;34m(\u001b[0m\u001b[0mclose\u001b[0m\u001b[0;34m=\u001b[0m\u001b[0mdata\u001b[0m\u001b[0;34m[\u001b[0m\u001b[0;34m'Close'\u001b[0m\u001b[0;34m]\u001b[0m\u001b[0;34m,\u001b[0m \u001b[0mwindow\u001b[0m\u001b[0;34m=\u001b[0m\u001b[0;36m20\u001b[0m\u001b[0;34m)\u001b[0m\u001b[0;34m.\u001b[0m\u001b[0msma_indicator\u001b[0m\u001b[0;34m(\u001b[0m\u001b[0;34m)\u001b[0m\u001b[0;34m\u001b[0m\u001b[0;34m\u001b[0m\u001b[0m\n\u001b[1;32m     10\u001b[0m     \u001b[0mdata\u001b[0m\u001b[0;34m[\u001b[0m\u001b[0;34m'ma50'\u001b[0m\u001b[0;34m]\u001b[0m \u001b[0;34m=\u001b[0m \u001b[0mSMAIndicator\u001b[0m\u001b[0;34m(\u001b[0m\u001b[0mclose\u001b[0m\u001b[0;34m=\u001b[0m\u001b[0mdata\u001b[0m\u001b[0;34m[\u001b[0m\u001b[0;34m'Close'\u001b[0m\u001b[0;34m]\u001b[0m\u001b[0;34m,\u001b[0m \u001b[0mwindow\u001b[0m\u001b[0;34m=\u001b[0m\u001b[0;36m50\u001b[0m\u001b[0;34m)\u001b[0m\u001b[0;34m.\u001b[0m\u001b[0msma_indicator\u001b[0m\u001b[0;34m(\u001b[0m\u001b[0;34m)\u001b[0m\u001b[0;34m\u001b[0m\u001b[0;34m\u001b[0m\u001b[0m\n",
            "\u001b[0;32m/usr/local/lib/python3.11/dist-packages/ta/momentum.py\u001b[0m in \u001b[0;36m__init__\u001b[0;34m(self, close, window, fillna)\u001b[0m\n\u001b[1;32m     32\u001b[0m         \u001b[0mself\u001b[0m\u001b[0;34m.\u001b[0m\u001b[0m_window\u001b[0m \u001b[0;34m=\u001b[0m \u001b[0mwindow\u001b[0m\u001b[0;34m\u001b[0m\u001b[0;34m\u001b[0m\u001b[0m\n\u001b[1;32m     33\u001b[0m         \u001b[0mself\u001b[0m\u001b[0;34m.\u001b[0m\u001b[0m_fillna\u001b[0m \u001b[0;34m=\u001b[0m \u001b[0mfillna\u001b[0m\u001b[0;34m\u001b[0m\u001b[0;34m\u001b[0m\u001b[0m\n\u001b[0;32m---> 34\u001b[0;31m         \u001b[0mself\u001b[0m\u001b[0;34m.\u001b[0m\u001b[0m_run\u001b[0m\u001b[0;34m(\u001b[0m\u001b[0;34m)\u001b[0m\u001b[0;34m\u001b[0m\u001b[0;34m\u001b[0m\u001b[0m\n\u001b[0m\u001b[1;32m     35\u001b[0m \u001b[0;34m\u001b[0m\u001b[0m\n\u001b[1;32m     36\u001b[0m     \u001b[0;32mdef\u001b[0m \u001b[0m_run\u001b[0m\u001b[0;34m(\u001b[0m\u001b[0mself\u001b[0m\u001b[0;34m)\u001b[0m\u001b[0;34m:\u001b[0m\u001b[0;34m\u001b[0m\u001b[0;34m\u001b[0m\u001b[0m\n",
            "\u001b[0;32m/usr/local/lib/python3.11/dist-packages/ta/momentum.py\u001b[0m in \u001b[0;36m_run\u001b[0;34m(self)\u001b[0m\n\u001b[1;32m     46\u001b[0m         ).mean()\n\u001b[1;32m     47\u001b[0m         \u001b[0mrelative_strength\u001b[0m \u001b[0;34m=\u001b[0m \u001b[0memaup\u001b[0m \u001b[0;34m/\u001b[0m \u001b[0memadn\u001b[0m\u001b[0;34m\u001b[0m\u001b[0;34m\u001b[0m\u001b[0m\n\u001b[0;32m---> 48\u001b[0;31m         self._rsi = pd.Series(\n\u001b[0m\u001b[1;32m     49\u001b[0m             \u001b[0mnp\u001b[0m\u001b[0;34m.\u001b[0m\u001b[0mwhere\u001b[0m\u001b[0;34m(\u001b[0m\u001b[0memadn\u001b[0m \u001b[0;34m==\u001b[0m \u001b[0;36m0\u001b[0m\u001b[0;34m,\u001b[0m \u001b[0;36m100\u001b[0m\u001b[0;34m,\u001b[0m \u001b[0;36m100\u001b[0m \u001b[0;34m-\u001b[0m \u001b[0;34m(\u001b[0m\u001b[0;36m100\u001b[0m \u001b[0;34m/\u001b[0m \u001b[0;34m(\u001b[0m\u001b[0;36m1\u001b[0m \u001b[0;34m+\u001b[0m \u001b[0mrelative_strength\u001b[0m\u001b[0;34m)\u001b[0m\u001b[0;34m)\u001b[0m\u001b[0;34m)\u001b[0m\u001b[0;34m,\u001b[0m\u001b[0;34m\u001b[0m\u001b[0;34m\u001b[0m\u001b[0m\n\u001b[1;32m     50\u001b[0m             \u001b[0mindex\u001b[0m\u001b[0;34m=\u001b[0m\u001b[0mself\u001b[0m\u001b[0;34m.\u001b[0m\u001b[0m_close\u001b[0m\u001b[0;34m.\u001b[0m\u001b[0mindex\u001b[0m\u001b[0;34m,\u001b[0m\u001b[0;34m\u001b[0m\u001b[0;34m\u001b[0m\u001b[0m\n",
            "\u001b[0;32m/usr/local/lib/python3.11/dist-packages/pandas/core/series.py\u001b[0m in \u001b[0;36m__init__\u001b[0;34m(self, data, index, dtype, name, copy, fastpath)\u001b[0m\n\u001b[1;32m    582\u001b[0m                 \u001b[0mdata\u001b[0m \u001b[0;34m=\u001b[0m \u001b[0mdata\u001b[0m\u001b[0;34m.\u001b[0m\u001b[0mcopy\u001b[0m\u001b[0;34m(\u001b[0m\u001b[0;34m)\u001b[0m\u001b[0;34m\u001b[0m\u001b[0;34m\u001b[0m\u001b[0m\n\u001b[1;32m    583\u001b[0m         \u001b[0;32melse\u001b[0m\u001b[0;34m:\u001b[0m\u001b[0;34m\u001b[0m\u001b[0;34m\u001b[0m\u001b[0m\n\u001b[0;32m--> 584\u001b[0;31m             \u001b[0mdata\u001b[0m \u001b[0;34m=\u001b[0m \u001b[0msanitize_array\u001b[0m\u001b[0;34m(\u001b[0m\u001b[0mdata\u001b[0m\u001b[0;34m,\u001b[0m \u001b[0mindex\u001b[0m\u001b[0;34m,\u001b[0m \u001b[0mdtype\u001b[0m\u001b[0;34m,\u001b[0m \u001b[0mcopy\u001b[0m\u001b[0;34m)\u001b[0m\u001b[0;34m\u001b[0m\u001b[0;34m\u001b[0m\u001b[0m\n\u001b[0m\u001b[1;32m    585\u001b[0m \u001b[0;34m\u001b[0m\u001b[0m\n\u001b[1;32m    586\u001b[0m             \u001b[0mmanager\u001b[0m \u001b[0;34m=\u001b[0m \u001b[0m_get_option\u001b[0m\u001b[0;34m(\u001b[0m\u001b[0;34m\"mode.data_manager\"\u001b[0m\u001b[0;34m,\u001b[0m \u001b[0msilent\u001b[0m\u001b[0;34m=\u001b[0m\u001b[0;32mTrue\u001b[0m\u001b[0;34m)\u001b[0m\u001b[0;34m\u001b[0m\u001b[0;34m\u001b[0m\u001b[0m\n",
            "\u001b[0;32m/usr/local/lib/python3.11/dist-packages/pandas/core/construction.py\u001b[0m in \u001b[0;36msanitize_array\u001b[0;34m(data, index, dtype, copy, allow_2d)\u001b[0m\n\u001b[1;32m    657\u001b[0m                 \u001b[0msubarr\u001b[0m \u001b[0;34m=\u001b[0m \u001b[0mmaybe_infer_to_datetimelike\u001b[0m\u001b[0;34m(\u001b[0m\u001b[0msubarr\u001b[0m\u001b[0;34m)\u001b[0m\u001b[0;34m\u001b[0m\u001b[0;34m\u001b[0m\u001b[0m\n\u001b[1;32m    658\u001b[0m \u001b[0;34m\u001b[0m\u001b[0m\n\u001b[0;32m--> 659\u001b[0;31m     \u001b[0msubarr\u001b[0m \u001b[0;34m=\u001b[0m \u001b[0m_sanitize_ndim\u001b[0m\u001b[0;34m(\u001b[0m\u001b[0msubarr\u001b[0m\u001b[0;34m,\u001b[0m \u001b[0mdata\u001b[0m\u001b[0;34m,\u001b[0m \u001b[0mdtype\u001b[0m\u001b[0;34m,\u001b[0m \u001b[0mindex\u001b[0m\u001b[0;34m,\u001b[0m \u001b[0mallow_2d\u001b[0m\u001b[0;34m=\u001b[0m\u001b[0mallow_2d\u001b[0m\u001b[0;34m)\u001b[0m\u001b[0;34m\u001b[0m\u001b[0;34m\u001b[0m\u001b[0m\n\u001b[0m\u001b[1;32m    660\u001b[0m \u001b[0;34m\u001b[0m\u001b[0m\n\u001b[1;32m    661\u001b[0m     \u001b[0;32mif\u001b[0m \u001b[0misinstance\u001b[0m\u001b[0;34m(\u001b[0m\u001b[0msubarr\u001b[0m\u001b[0;34m,\u001b[0m \u001b[0mnp\u001b[0m\u001b[0;34m.\u001b[0m\u001b[0mndarray\u001b[0m\u001b[0;34m)\u001b[0m\u001b[0;34m:\u001b[0m\u001b[0;34m\u001b[0m\u001b[0;34m\u001b[0m\u001b[0m\n",
            "\u001b[0;32m/usr/local/lib/python3.11/dist-packages/pandas/core/construction.py\u001b[0m in \u001b[0;36m_sanitize_ndim\u001b[0;34m(result, data, dtype, index, allow_2d)\u001b[0m\n\u001b[1;32m    716\u001b[0m             \u001b[0;32mif\u001b[0m \u001b[0mallow_2d\u001b[0m\u001b[0;34m:\u001b[0m\u001b[0;34m\u001b[0m\u001b[0;34m\u001b[0m\u001b[0m\n\u001b[1;32m    717\u001b[0m                 \u001b[0;32mreturn\u001b[0m \u001b[0mresult\u001b[0m\u001b[0;34m\u001b[0m\u001b[0;34m\u001b[0m\u001b[0m\n\u001b[0;32m--> 718\u001b[0;31m             raise ValueError(\n\u001b[0m\u001b[1;32m    719\u001b[0m                 \u001b[0;34mf\"Data must be 1-dimensional, got ndarray of shape {data.shape} instead\"\u001b[0m\u001b[0;34m\u001b[0m\u001b[0;34m\u001b[0m\u001b[0m\n\u001b[1;32m    720\u001b[0m             )\n",
            "\u001b[0;31mValueError\u001b[0m: Data must be 1-dimensional, got ndarray of shape (420, 1) instead"
          ]
        }
      ]
    },
    {
      "cell_type": "code",
      "source": [
        "from ta.momentum import RSIIndicator\n",
        "from ta.trend import SMAIndicator\n",
        "\n",
        "def update_indicators(ticker):\n",
        "    data = yf.download(ticker, period='60d', interval='1h')\n",
        "    print(f\"Downloaded data for {ticker}:\")\n",
        "    print(data.tail())  # Check if data is fetched correctly\n",
        "\n",
        "    if data.empty:\n",
        "        print(\"❌ No data fetched.\")\n",
        "        return\n",
        "\n",
        "    try:\n",
        "        # Calculate indicators using 'ta' library\n",
        "        rsi_series = RSIIndicator(close=data['Close'], window=14).rsi()\n",
        "        ma20_series = SMAIndicator(close=data['Close'], window=20).sma_indicator()\n",
        "        ma50_series = SMAIndicator(close=data['Close'], window=50).sma_indicator()\n",
        "\n",
        "        print(\"\\n✅ Calculated indicators shapes:\")\n",
        "        print('RSI:', rsi_series.shape)\n",
        "        print('MA20:', ma20_series.shape)\n",
        "        print('MA50:', ma50_series.shape)\n",
        "\n",
        "        print(\"\\n✅ Latest indicator values:\")\n",
        "        print('RSI:', rsi_series.iloc[-1])\n",
        "        print('MA20:', ma20_series.iloc[-1])\n",
        "        print('MA50:', ma50_series.iloc[-1])\n",
        "\n",
        "    except Exception as e:\n",
        "        print(\"❌ Error during indicator calculation:\", e)\n"
      ],
      "metadata": {
        "id": "ARVdgVlwlGRL"
      },
      "execution_count": 71,
      "outputs": []
    },
    {
      "cell_type": "code",
      "source": [
        "from ta.momentum import RSIIndicator\n",
        "from ta.trend import SMAIndicator\n",
        "import yfinance as yf\n",
        "\n",
        "def update_indicators(ticker):\n",
        "    print(f\"\\n➡️ Starting update for {ticker}...\")  # ✅ Basic confirmation\n",
        "\n",
        "    data = yf.download(ticker, period='60d', interval='1h')\n",
        "    print(f\"✅ Data fetched. Shape: {data.shape}\")  # Check if any rows exist\n",
        "\n",
        "    if data.empty:\n",
        "        print(\"❌ No data fetched. Try another ticker or check connection.\")\n",
        "        return\n",
        "\n",
        "    try:\n",
        "        rsi_series = RSIIndicator(close=data['Close'], window=14).rsi()\n",
        "        ma20_series = SMAIndicator(close=data['Close'], window=20).sma_indicator()\n",
        "        ma50_series = SMAIndicator(close=data['Close'], window=50).sma_indicator()\n",
        "\n",
        "        print(\"\\n✅ Indicators calculated successfully.\")\n",
        "        print(f\"RSI latest: {rsi_series.iloc[-1]}\")\n",
        "        print(f\"MA20 latest: {ma20_series.iloc[-1]}\")\n",
        "        print(f\"MA50 latest: {ma50_series.iloc[-1]}\")\n",
        "\n",
        "    except Exception as e:\n",
        "        print(f\"❌ Error calculating indicators: {e}\")\n",
        "\n",
        "# Call function directly to test\n",
        "update_indicators('TSLA')\n"
      ],
      "metadata": {
        "colab": {
          "base_uri": "https://localhost:8080/"
        },
        "id": "vIhKy6fglbaB",
        "outputId": "680adf9d-7c28-4f1d-f9a8-26e25d8eec98"
      },
      "execution_count": 72,
      "outputs": [
        {
          "output_type": "stream",
          "name": "stdout",
          "text": [
            "\n",
            "➡️ Starting update for TSLA...\n"
          ]
        },
        {
          "output_type": "stream",
          "name": "stderr",
          "text": [
            "\r[*********************100%***********************]  1 of 1 completed"
          ]
        },
        {
          "output_type": "stream",
          "name": "stdout",
          "text": [
            "✅ Data fetched. Shape: (420, 5)\n",
            "❌ Error calculating indicators: Data must be 1-dimensional, got ndarray of shape (420, 1) instead\n"
          ]
        },
        {
          "output_type": "stream",
          "name": "stderr",
          "text": [
            "\n"
          ]
        }
      ]
    },
    {
      "cell_type": "code",
      "source": [
        "from ta.momentum import RSIIndicator\n",
        "from ta.trend import SMAIndicator\n",
        "import yfinance as yf\n",
        "\n",
        "def update_indicators(ticker):\n",
        "    print(f\"\\n➡️ Starting update for {ticker}...\")\n",
        "\n",
        "    data = yf.download(ticker, period='60d', interval='1h')\n",
        "    print(f\"✅ Data fetched. Shape: {data.shape}\")\n",
        "\n",
        "    if data.empty:\n",
        "        print(\"❌ No data fetched. Try another ticker or check connection.\")\n",
        "        return\n",
        "\n",
        "    try:\n",
        "        # Make sure we are passing a 1D Series\n",
        "        close_series = data['Close'].squeeze()\n",
        "\n",
        "        rsi_series = RSIIndicator(close=close_series, window=14).rsi()\n",
        "        ma20_series = SMAIndicator(close=close_series, window=20).sma_indicator()\n",
        "        ma50_series = SMAIndicator(close=close_series, window=50).sma_indicator()\n",
        "\n",
        "        print(\"\\n✅ Indicators calculated successfully.\")\n",
        "        print(f\"RSI latest: {rsi_series.iloc[-1]}\")\n",
        "        print(f\"MA20 latest: {ma20_series.iloc[-1]}\")\n",
        "        print(f\"MA50 latest: {ma50_series.iloc[-1]}\")\n",
        "\n",
        "    except Exception as e:\n",
        "        print(f\"❌ Error calculating indicators: {e}\")\n",
        "\n",
        "# Run to test\n",
        "update_indicators('TSLA')\n"
      ],
      "metadata": {
        "colab": {
          "base_uri": "https://localhost:8080/"
        },
        "id": "i69T8q7xlswZ",
        "outputId": "db5fb4a8-b02b-4b0b-cc28-c45513fcfd36"
      },
      "execution_count": 73,
      "outputs": [
        {
          "output_type": "stream",
          "name": "stdout",
          "text": [
            "\n",
            "➡️ Starting update for TSLA...\n"
          ]
        },
        {
          "output_type": "stream",
          "name": "stderr",
          "text": [
            "\r[*********************100%***********************]  1 of 1 completed"
          ]
        },
        {
          "output_type": "stream",
          "name": "stdout",
          "text": [
            "✅ Data fetched. Shape: (420, 5)\n",
            "\n",
            "✅ Indicators calculated successfully.\n",
            "RSI latest: 58.74043915957702\n",
            "MA20 latest: 317.14790496826174\n",
            "MA50 latest: 319.23803161621095\n"
          ]
        },
        {
          "output_type": "stream",
          "name": "stderr",
          "text": [
            "\n"
          ]
        }
      ]
    },
    {
      "cell_type": "code",
      "source": [
        "def update_indicators(ticker):\n",
        "    print(f\"➡️ Starting update for {ticker}...\")\n",
        "    data = yf.download(ticker, period='60d', interval='1h')\n",
        "    print(f\"✅ Data fetched. Shape: {data.shape}\")\n",
        "\n",
        "    # Flatten multi-level columns\n",
        "    data.columns = data.columns.get_level_values(0)\n",
        "\n",
        "    try:\n",
        "        # Calculate indicators using 'ta' library\n",
        "        data['rsi'] = RSIIndicator(close=data['Close'], window=14).rsi()\n",
        "        data['ma20'] = SMAIndicator(close=data['Close'], window=20).sma_indicator()\n",
        "        data['ma50'] = SMAIndicator(close=data['Close'], window=50).sma_indicator()\n",
        "\n",
        "        latest_row = data.iloc[-1]\n",
        "        rsi_value = float(latest_row['rsi'])\n",
        "        ma20_value = float(latest_row['ma20'])\n",
        "        ma50_value = float(latest_row['ma50'])\n",
        "        latest_datetime = str(latest_row.name)\n",
        "\n",
        "        print(f\"✅ Indicators calculated successfully.\")\n",
        "        print(f\"RSI latest: {rsi_value}\")\n",
        "        print(f\"MA20 latest: {ma20_value}\")\n",
        "        print(f\"MA50 latest: {ma50_value}\")\n",
        "\n",
        "        # Decision logic (more active)\n",
        "        if rsi_value < 40:\n",
        "            signal = '🟢 BUY'\n",
        "        elif rsi_value > 60:\n",
        "            signal = '🔴 SELL'\n",
        "        else:\n",
        "            signal = '🟡 HOLD'\n",
        "\n",
        "        # Database update\n",
        "        conn = sqlite3.connect('trade_recommendation.db')\n",
        "        cursor = conn.cursor()\n",
        "\n",
        "        cursor.execute('''\n",
        "            INSERT INTO indicators (ticker, datetime, rsi, ma20, ma50)\n",
        "            VALUES (?, ?, ?, ?, ?)\n",
        "        ''', (ticker, latest_datetime, rsi_value, ma20_value, ma50_value))\n",
        "\n",
        "        conn.commit()\n",
        "        conn.close()\n",
        "        print(f\"✅ Indicators for {ticker} at {latest_datetime} stored in DB.\")\n",
        "\n",
        "        # Prepare Telegram message with signal\n",
        "        message = (f'📊 {ticker} Update:\\n'\n",
        "                   f'RSI: {rsi_value:.2f}\\n'\n",
        "                   f'MA20: {ma20_value:.2f}\\n'\n",
        "                   f'MA50: {ma50_value:.2f}\\n'\n",
        "                   f'Signal: {signal}\\n'\n",
        "                   f'Time: {latest_datetime}')\n",
        "\n",
        "        # Send Telegram alert\n",
        "        send_telegram_message(message)\n",
        "\n",
        "    except Exception as e:\n",
        "        print(f\"❌ Error: {e}\")\n"
      ],
      "metadata": {
        "id": "PM1TM6semrBn"
      },
      "execution_count": 100,
      "outputs": []
    },
    {
      "cell_type": "code",
      "source": [
        "update_indicators('TSLA')"
      ],
      "metadata": {
        "colab": {
          "base_uri": "https://localhost:8080/"
        },
        "id": "O-C0Q0Hkm2no",
        "outputId": "fa2bfb41-1f1a-455e-8306-4a4575e74d0f"
      },
      "execution_count": 101,
      "outputs": [
        {
          "output_type": "stream",
          "name": "stdout",
          "text": [
            "➡️ Starting update for TSLA...\n"
          ]
        },
        {
          "output_type": "stream",
          "name": "stderr",
          "text": [
            "\r[*********************100%***********************]  1 of 1 completed\n"
          ]
        },
        {
          "output_type": "stream",
          "name": "stdout",
          "text": [
            "✅ Data fetched. Shape: (420, 5)\n",
            "✅ Indicators calculated successfully.\n",
            "RSI latest: 58.74043915957702\n",
            "MA20 latest: 317.14790496826174\n",
            "MA50 latest: 319.23803161621095\n",
            "✅ Indicators for TSLA at 2025-06-11 19:30:00+00:00 stored in DB.\n",
            "📩 Telegram alert sent successfully.\n"
          ]
        }
      ]
    },
    {
      "cell_type": "code",
      "source": [
        "latest_row = data.iloc[-1]\n",
        "print(latest_row)\n"
      ],
      "metadata": {
        "colab": {
          "base_uri": "https://localhost:8080/"
        },
        "id": "eKAXiS9Fm83t",
        "outputId": "e84a5d9d-2e26-4903-c285-58cde86f1d1b"
      },
      "execution_count": 85,
      "outputs": [
        {
          "output_type": "stream",
          "name": "stdout",
          "text": [
            "Price   Ticker\n",
            "Close   TSLA      324.440002\n",
            "High    TSLA      324.440002\n",
            "Low     TSLA      324.440002\n",
            "Open    TSLA      324.440002\n",
            "Volume  TSLA        0.000000\n",
            "Name: 2025-06-11 19:40:00+00:00, dtype: float64\n"
          ]
        }
      ]
    },
    {
      "cell_type": "code",
      "source": [
        "import time\n",
        "\n",
        "tickers = ['TSLA', 'AAPL', 'EURUSD=X', 'GC=F', 'CL=F']  # Add any tickers you want\n",
        "\n",
        "try:\n",
        "    while True:\n",
        "        for ticker in tickers:\n",
        "            update_indicators(ticker)\n",
        "            print(f'✅ {ticker} updated. Waiting for next ticker...\\n')\n",
        "        print('⏳ Waiting 60 seconds before the next update cycle...\\n')\n",
        "        time.sleep(60)  # Wait 60 seconds before the next cycle\n",
        "\n",
        "except KeyboardInterrupt:\n",
        "    print('🛑 Stopped updating.')\n"
      ],
      "metadata": {
        "colab": {
          "base_uri": "https://localhost:8080/"
        },
        "id": "uLqGfu1CnJ0t",
        "outputId": "c32c9ea7-7848-4dbc-98a9-489a684ad738"
      },
      "execution_count": 102,
      "outputs": [
        {
          "output_type": "stream",
          "name": "stdout",
          "text": [
            "➡️ Starting update for TSLA...\n"
          ]
        },
        {
          "output_type": "stream",
          "name": "stderr",
          "text": [
            "\r[*********************100%***********************]  1 of 1 completed\n"
          ]
        },
        {
          "output_type": "stream",
          "name": "stdout",
          "text": [
            "✅ Data fetched. Shape: (420, 5)\n",
            "✅ Indicators calculated successfully.\n",
            "RSI latest: 58.74043915957702\n",
            "MA20 latest: 317.14790496826174\n",
            "MA50 latest: 319.23803161621095\n",
            "✅ Indicators for TSLA at 2025-06-11 19:30:00+00:00 stored in DB.\n",
            "📩 Telegram alert sent successfully.\n",
            "✅ TSLA updated. Waiting for next ticker...\n",
            "\n",
            "➡️ Starting update for AAPL...\n"
          ]
        },
        {
          "output_type": "stream",
          "name": "stderr",
          "text": [
            "\r[*********************100%***********************]  1 of 1 completed\n"
          ]
        },
        {
          "output_type": "stream",
          "name": "stdout",
          "text": [
            "✅ Data fetched. Shape: (420, 5)\n",
            "✅ Indicators calculated successfully.\n",
            "RSI latest: 36.08347812288298\n",
            "MA20 latest: 201.64845123291016\n",
            "MA50 latest: 202.5547317504883\n",
            "✅ Indicators for AAPL at 2025-06-11 19:30:00+00:00 stored in DB.\n",
            "📩 Telegram alert sent successfully.\n",
            "✅ AAPL updated. Waiting for next ticker...\n",
            "\n",
            "➡️ Starting update for EURUSD=X...\n"
          ]
        },
        {
          "output_type": "stream",
          "name": "stderr",
          "text": [
            "\r[*********************100%***********************]  1 of 1 completed\n"
          ]
        },
        {
          "output_type": "stream",
          "name": "stdout",
          "text": [
            "✅ Data fetched. Shape: (1424, 5)\n",
            "✅ Indicators calculated successfully.\n",
            "RSI latest: 66.70049659468897\n",
            "MA20 latest: 1.145300555229187\n",
            "MA50 latest: 1.1434463262557983\n",
            "✅ Indicators for EURUSD=X at 2025-06-11 20:00:00+00:00 stored in DB.\n",
            "📩 Telegram alert sent successfully.\n",
            "✅ EURUSD=X updated. Waiting for next ticker...\n",
            "\n",
            "➡️ Starting update for GC=F...\n"
          ]
        },
        {
          "output_type": "stream",
          "name": "stderr",
          "text": [
            "\r[*********************100%***********************]  1 of 1 completed\n"
          ]
        },
        {
          "output_type": "stream",
          "name": "stdout",
          "text": [
            "✅ Data fetched. Shape: (1143, 5)\n",
            "✅ Indicators calculated successfully.\n",
            "RSI latest: 59.94399817709931\n",
            "MA20 latest: 3358.040002441406\n",
            "MA50 latest: 3350.74\n",
            "✅ Indicators for GC=F at 2025-06-11 20:00:00+00:00 stored in DB.\n",
            "📩 Telegram alert sent successfully.\n",
            "✅ GC=F updated. Waiting for next ticker...\n",
            "\n",
            "➡️ Starting update for CL=F...\n"
          ]
        },
        {
          "output_type": "stream",
          "name": "stderr",
          "text": [
            "\r[*********************100%***********************]  1 of 1 completed\n"
          ]
        },
        {
          "output_type": "stream",
          "name": "stdout",
          "text": [
            "✅ Data fetched. Shape: (1114, 5)\n",
            "✅ Indicators calculated successfully.\n",
            "RSI latest: 78.58184472056354\n",
            "MA20 latest: 66.06049995422363\n",
            "MA50 latest: 65.61540023803711\n",
            "✅ Indicators for CL=F at 2025-06-11 20:00:00+00:00 stored in DB.\n",
            "📩 Telegram alert sent successfully.\n",
            "✅ CL=F updated. Waiting for next ticker...\n",
            "\n",
            "⏳ Waiting 60 seconds before the next update cycle...\n",
            "\n",
            "➡️ Starting update for TSLA...\n"
          ]
        },
        {
          "output_type": "stream",
          "name": "stderr",
          "text": [
            "\r[*********************100%***********************]  1 of 1 completed\n"
          ]
        },
        {
          "output_type": "stream",
          "name": "stdout",
          "text": [
            "✅ Data fetched. Shape: (420, 5)\n",
            "✅ Indicators calculated successfully.\n",
            "RSI latest: 58.74043915957702\n",
            "MA20 latest: 317.14790496826174\n",
            "MA50 latest: 319.23803161621095\n",
            "✅ Indicators for TSLA at 2025-06-11 19:30:00+00:00 stored in DB.\n",
            "📩 Telegram alert sent successfully.\n",
            "✅ TSLA updated. Waiting for next ticker...\n",
            "\n",
            "➡️ Starting update for AAPL...\n"
          ]
        },
        {
          "output_type": "stream",
          "name": "stderr",
          "text": [
            "\r[*********************100%***********************]  1 of 1 completed\n"
          ]
        },
        {
          "output_type": "stream",
          "name": "stdout",
          "text": [
            "✅ Data fetched. Shape: (420, 5)\n",
            "✅ Indicators calculated successfully.\n",
            "RSI latest: 36.08347812288298\n",
            "MA20 latest: 201.64845123291016\n",
            "MA50 latest: 202.5547317504883\n",
            "✅ Indicators for AAPL at 2025-06-11 19:30:00+00:00 stored in DB.\n",
            "📩 Telegram alert sent successfully.\n",
            "✅ AAPL updated. Waiting for next ticker...\n",
            "\n",
            "➡️ Starting update for EURUSD=X...\n"
          ]
        },
        {
          "output_type": "stream",
          "name": "stderr",
          "text": [
            "\r[*********************100%***********************]  1 of 1 completed\n"
          ]
        },
        {
          "output_type": "stream",
          "name": "stdout",
          "text": [
            "✅ Data fetched. Shape: (1424, 5)\n",
            "✅ Indicators calculated successfully.\n",
            "RSI latest: 67.11116089366544\n",
            "MA20 latest: 1.1453071594238282\n",
            "MA50 latest: 1.1434489679336548\n",
            "✅ Indicators for EURUSD=X at 2025-06-11 20:00:00+00:00 stored in DB.\n",
            "📩 Telegram alert sent successfully.\n",
            "✅ EURUSD=X updated. Waiting for next ticker...\n",
            "\n",
            "➡️ Starting update for GC=F...\n"
          ]
        },
        {
          "output_type": "stream",
          "name": "stderr",
          "text": [
            "\r[*********************100%***********************]  1 of 1 completed\n"
          ]
        },
        {
          "output_type": "stream",
          "name": "stdout",
          "text": [
            "✅ Data fetched. Shape: (1143, 5)\n",
            "✅ Indicators calculated successfully.\n",
            "RSI latest: 60.09811496157294\n",
            "MA20 latest: 3358.0550048828127\n",
            "MA50 latest: 3350.7460009765623\n",
            "✅ Indicators for GC=F at 2025-06-11 20:00:00+00:00 stored in DB.\n",
            "📩 Telegram alert sent successfully.\n",
            "✅ GC=F updated. Waiting for next ticker...\n",
            "\n",
            "➡️ Starting update for CL=F...\n"
          ]
        },
        {
          "output_type": "stream",
          "name": "stderr",
          "text": [
            "\r[*********************100%***********************]  1 of 1 completed\n"
          ]
        },
        {
          "output_type": "stream",
          "name": "stdout",
          "text": [
            "✅ Data fetched. Shape: (1114, 5)\n",
            "✅ Indicators calculated successfully.\n",
            "RSI latest: 78.45246666177528\n",
            "MA20 latest: 66.05950012207032\n",
            "MA50 latest: 65.61500030517578\n",
            "✅ Indicators for CL=F at 2025-06-11 20:00:00+00:00 stored in DB.\n",
            "📩 Telegram alert sent successfully.\n",
            "✅ CL=F updated. Waiting for next ticker...\n",
            "\n",
            "⏳ Waiting 60 seconds before the next update cycle...\n",
            "\n",
            "➡️ Starting update for TSLA...\n"
          ]
        },
        {
          "output_type": "stream",
          "name": "stderr",
          "text": [
            "\r[*********************100%***********************]  1 of 1 completed\n"
          ]
        },
        {
          "output_type": "stream",
          "name": "stdout",
          "text": [
            "✅ Data fetched. Shape: (420, 5)\n",
            "✅ Indicators calculated successfully.\n",
            "RSI latest: 58.74043915957702\n",
            "MA20 latest: 317.14790496826174\n",
            "MA50 latest: 319.23803161621095\n",
            "✅ Indicators for TSLA at 2025-06-11 19:30:00+00:00 stored in DB.\n",
            "📩 Telegram alert sent successfully.\n",
            "✅ TSLA updated. Waiting for next ticker...\n",
            "\n",
            "➡️ Starting update for AAPL...\n"
          ]
        },
        {
          "output_type": "stream",
          "name": "stderr",
          "text": [
            "\r[*********************100%***********************]  1 of 1 completed\n"
          ]
        },
        {
          "output_type": "stream",
          "name": "stdout",
          "text": [
            "✅ Data fetched. Shape: (420, 5)\n",
            "✅ Indicators calculated successfully.\n",
            "RSI latest: 36.08347812288298\n",
            "MA20 latest: 201.64845123291016\n",
            "MA50 latest: 202.5547317504883\n",
            "✅ Indicators for AAPL at 2025-06-11 19:30:00+00:00 stored in DB.\n",
            "📩 Telegram alert sent successfully.\n",
            "✅ AAPL updated. Waiting for next ticker...\n",
            "\n",
            "➡️ Starting update for EURUSD=X...\n"
          ]
        },
        {
          "output_type": "stream",
          "name": "stderr",
          "text": [
            "\r[*********************100%***********************]  1 of 1 completed\n"
          ]
        },
        {
          "output_type": "stream",
          "name": "stdout",
          "text": [
            "✅ Data fetched. Shape: (1424, 5)\n",
            "✅ Indicators calculated successfully.\n",
            "RSI latest: 66.70049659468897\n",
            "MA20 latest: 1.145300555229187\n",
            "MA50 latest: 1.1434463262557983\n",
            "✅ Indicators for EURUSD=X at 2025-06-11 20:00:00+00:00 stored in DB.\n",
            "📩 Telegram alert sent successfully.\n",
            "✅ EURUSD=X updated. Waiting for next ticker...\n",
            "\n",
            "➡️ Starting update for GC=F...\n"
          ]
        },
        {
          "output_type": "stream",
          "name": "stderr",
          "text": [
            "\r[*********************100%***********************]  1 of 1 completed\n"
          ]
        },
        {
          "output_type": "stream",
          "name": "stdout",
          "text": [
            "✅ Data fetched. Shape: (1143, 5)\n",
            "✅ Indicators calculated successfully.\n",
            "RSI latest: 61.144478595722134\n",
            "MA20 latest: 3358.160009765625\n",
            "MA50 latest: 3350.7880029296875\n",
            "✅ Indicators for GC=F at 2025-06-11 20:00:00+00:00 stored in DB.\n",
            "📩 Telegram alert sent successfully.\n",
            "✅ GC=F updated. Waiting for next ticker...\n",
            "\n",
            "➡️ Starting update for CL=F...\n"
          ]
        },
        {
          "output_type": "stream",
          "name": "stderr",
          "text": [
            "\r[*********************100%***********************]  1 of 1 completed\n"
          ]
        },
        {
          "output_type": "stream",
          "name": "stdout",
          "text": [
            "✅ Data fetched. Shape: (1114, 5)\n",
            "✅ Indicators calculated successfully.\n",
            "RSI latest: 78.51732580158576\n",
            "MA20 latest: 66.05999984741212\n",
            "MA50 latest: 65.6152001953125\n",
            "✅ Indicators for CL=F at 2025-06-11 20:00:00+00:00 stored in DB.\n",
            "📩 Telegram alert sent successfully.\n",
            "✅ CL=F updated. Waiting for next ticker...\n",
            "\n",
            "⏳ Waiting 60 seconds before the next update cycle...\n",
            "\n",
            "➡️ Starting update for TSLA...\n"
          ]
        },
        {
          "output_type": "stream",
          "name": "stderr",
          "text": [
            "\r[*********************100%***********************]  1 of 1 completed\n"
          ]
        },
        {
          "output_type": "stream",
          "name": "stdout",
          "text": [
            "✅ Data fetched. Shape: (420, 5)\n",
            "✅ Indicators calculated successfully.\n",
            "RSI latest: 58.74043915957702\n",
            "MA20 latest: 317.14790496826174\n",
            "MA50 latest: 319.23803161621095\n",
            "✅ Indicators for TSLA at 2025-06-11 19:30:00+00:00 stored in DB.\n",
            "📩 Telegram alert sent successfully.\n",
            "✅ TSLA updated. Waiting for next ticker...\n",
            "\n",
            "➡️ Starting update for AAPL...\n"
          ]
        },
        {
          "output_type": "stream",
          "name": "stderr",
          "text": [
            "\r[*********************100%***********************]  1 of 1 completed\n"
          ]
        },
        {
          "output_type": "stream",
          "name": "stdout",
          "text": [
            "✅ Data fetched. Shape: (420, 5)\n",
            "✅ Indicators calculated successfully.\n",
            "RSI latest: 36.08347812288298\n",
            "MA20 latest: 201.64845123291016\n",
            "MA50 latest: 202.5547317504883\n",
            "✅ Indicators for AAPL at 2025-06-11 19:30:00+00:00 stored in DB.\n",
            "📩 Telegram alert sent successfully.\n",
            "✅ AAPL updated. Waiting for next ticker...\n",
            "\n",
            "➡️ Starting update for EURUSD=X...\n"
          ]
        },
        {
          "output_type": "stream",
          "name": "stderr",
          "text": [
            "\r[*********************100%***********************]  1 of 1 completed\n"
          ]
        },
        {
          "output_type": "stream",
          "name": "stdout",
          "text": [
            "✅ Data fetched. Shape: (1424, 5)\n",
            "✅ Indicators calculated successfully.\n",
            "RSI latest: 66.70049659468897\n",
            "MA20 latest: 1.145300555229187\n",
            "MA50 latest: 1.1434463262557983\n",
            "✅ Indicators for EURUSD=X at 2025-06-11 20:00:00+00:00 stored in DB.\n",
            "📩 Telegram alert sent successfully.\n",
            "✅ EURUSD=X updated. Waiting for next ticker...\n",
            "\n",
            "➡️ Starting update for GC=F...\n"
          ]
        },
        {
          "output_type": "stream",
          "name": "stderr",
          "text": [
            "\r[*********************100%***********************]  1 of 1 completed\n"
          ]
        },
        {
          "output_type": "stream",
          "name": "stdout",
          "text": [
            "✅ Data fetched. Shape: (1143, 5)\n",
            "✅ Indicators calculated successfully.\n",
            "RSI latest: 61.670875684651655\n",
            "MA20 latest: 3358.2150024414063\n",
            "MA50 latest: 3350.81\n",
            "✅ Indicators for GC=F at 2025-06-11 20:00:00+00:00 stored in DB.\n",
            "📩 Telegram alert sent successfully.\n",
            "✅ GC=F updated. Waiting for next ticker...\n",
            "\n",
            "➡️ Starting update for CL=F...\n"
          ]
        },
        {
          "output_type": "stream",
          "name": "stderr",
          "text": [
            "\r[*********************100%***********************]  1 of 1 completed\n"
          ]
        },
        {
          "output_type": "stream",
          "name": "stdout",
          "text": [
            "✅ Data fetched. Shape: (1114, 5)\n",
            "✅ Indicators calculated successfully.\n",
            "RSI latest: 78.64597726059318\n",
            "MA20 latest: 66.06100006103516\n",
            "MA50 latest: 65.61560028076173\n",
            "✅ Indicators for CL=F at 2025-06-11 20:00:00+00:00 stored in DB.\n",
            "📩 Telegram alert sent successfully.\n",
            "✅ CL=F updated. Waiting for next ticker...\n",
            "\n",
            "⏳ Waiting 60 seconds before the next update cycle...\n",
            "\n",
            "🛑 Stopped updating.\n"
          ]
        }
      ]
    },
    {
      "cell_type": "code",
      "source": [
        "import os\n",
        "print(os.path.abspath('trade_recommendation.db'))\n"
      ],
      "metadata": {
        "colab": {
          "base_uri": "https://localhost:8080/"
        },
        "id": "OG9v3nNKoNKQ",
        "outputId": "75370532-5380-47c3-c1f2-b6b00c58656c"
      },
      "execution_count": 103,
      "outputs": [
        {
          "output_type": "stream",
          "name": "stdout",
          "text": [
            "/content/trade_recommendation.db\n"
          ]
        }
      ]
    },
    {
      "cell_type": "code",
      "source": [
        "from google.colab import files\n",
        "files.download('/content/trade_recommendation.db')\n"
      ],
      "metadata": {
        "colab": {
          "base_uri": "https://localhost:8080/",
          "height": 17
        },
        "id": "vh_letbPwW8y",
        "outputId": "842cb7db-dd6e-482e-d37b-974205929f2b"
      },
      "execution_count": 104,
      "outputs": [
        {
          "output_type": "display_data",
          "data": {
            "text/plain": [
              "<IPython.core.display.Javascript object>"
            ],
            "application/javascript": [
              "\n",
              "    async function download(id, filename, size) {\n",
              "      if (!google.colab.kernel.accessAllowed) {\n",
              "        return;\n",
              "      }\n",
              "      const div = document.createElement('div');\n",
              "      const label = document.createElement('label');\n",
              "      label.textContent = `Downloading \"${filename}\": `;\n",
              "      div.appendChild(label);\n",
              "      const progress = document.createElement('progress');\n",
              "      progress.max = size;\n",
              "      div.appendChild(progress);\n",
              "      document.body.appendChild(div);\n",
              "\n",
              "      const buffers = [];\n",
              "      let downloaded = 0;\n",
              "\n",
              "      const channel = await google.colab.kernel.comms.open(id);\n",
              "      // Send a message to notify the kernel that we're ready.\n",
              "      channel.send({})\n",
              "\n",
              "      for await (const message of channel.messages) {\n",
              "        // Send a message to notify the kernel that we're ready.\n",
              "        channel.send({})\n",
              "        if (message.buffers) {\n",
              "          for (const buffer of message.buffers) {\n",
              "            buffers.push(buffer);\n",
              "            downloaded += buffer.byteLength;\n",
              "            progress.value = downloaded;\n",
              "          }\n",
              "        }\n",
              "      }\n",
              "      const blob = new Blob(buffers, {type: 'application/binary'});\n",
              "      const a = document.createElement('a');\n",
              "      a.href = window.URL.createObjectURL(blob);\n",
              "      a.download = filename;\n",
              "      div.appendChild(a);\n",
              "      a.click();\n",
              "      div.remove();\n",
              "    }\n",
              "  "
            ]
          },
          "metadata": {}
        },
        {
          "output_type": "display_data",
          "data": {
            "text/plain": [
              "<IPython.core.display.Javascript object>"
            ],
            "application/javascript": [
              "download(\"download_922fb3e8-66cf-493f-bf86-dd9dc27de640\", \"trade_recommendation.db\", 237568)"
            ]
          },
          "metadata": {}
        }
      ]
    },
    {
      "cell_type": "code",
      "source": [],
      "metadata": {
        "id": "7lIGe2LkwmO7"
      },
      "execution_count": null,
      "outputs": []
    }
  ]
}